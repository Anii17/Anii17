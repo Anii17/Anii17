{
  "nbformat": 4,
  "nbformat_minor": 0,
  "metadata": {
    "colab": {
      "name": "F1 SCORE IRIS DATASET(SETOSA, VERGINICA).ipynb",
      "provenance": [],
      "authorship_tag": "ABX9TyPRNiYD2ZgZrUifMPI9TpIl",
      "include_colab_link": true
    },
    "kernelspec": {
      "name": "python3",
      "display_name": "Python 3"
    },
    "language_info": {
      "name": "python"
    }
  },
  "cells": [
    {
      "cell_type": "markdown",
      "metadata": {
        "id": "view-in-github",
        "colab_type": "text"
      },
      "source": [
        "<a href=\"https://colab.research.google.com/github/AnirudhNair17/Anii17/blob/main/F1_SCORE_IRIS_DATASET(SETOSA%2C_VERGINICA).ipynb\" target=\"_parent\"><img src=\"https://colab.research.google.com/assets/colab-badge.svg\" alt=\"Open In Colab\"/></a>"
      ]
    },
    {
      "cell_type": "code",
      "execution_count": 19,
      "metadata": {
        "id": "Gs9guSZCBg_X"
      },
      "outputs": [],
      "source": [
        "from matplotlib import pyplot as plt\n",
        "from sklearn.metrics import confusion_matrix , classification_report\n",
        "import pandas as pd\n",
        "import seaborn as sns"
      ]
    },
    {
      "cell_type": "code",
      "source": [
        "def print_confusion_matrix(confusion_matrix, class_names, figsize = (10,7), fontsize=14):\n",
        "    df_cm = pd.DataFrame(\n",
        "        confusion_matrix, index=class_names, columns=class_names, \n",
        "    )\n",
        "    fig = plt.figure(figsize=figsize)\n",
        "    try:\n",
        "        heatmap = sns.heatmap(df_cm, annot=True, fmt=\"d\")\n",
        "    except ValueError:\n",
        "        raise ValueError(\"Confusion matrix values must be integers.\")\n",
        "    heatmap.yaxis.set_ticklabels(heatmap.yaxis.get_ticklabels(), rotation=0, ha='right', fontsize=fontsize)\n",
        "    heatmap.xaxis.set_ticklabels(heatmap.xaxis.get_ticklabels(), rotation=45, ha='right', fontsize=fontsize)\n",
        "    plt.ylabel('Truth')\n",
        "    plt.xlabel('Prediction')"
      ],
      "metadata": {
        "id": "4SVPZe85BjMK"
      },
      "execution_count": 20,
      "outputs": []
    },
    {
      "cell_type": "code",
      "source": [
        "truth =      [\"Setosa\",\"Verginica\",\"Setosa\",\"Setosa\",      \"Setosa\", \"Verginica\", \"Verginica\", \"Setosa\",       \"Setosa\", \"Verginica\"]\n",
        "prediction = [\"Setosa\",\"Setosa\",      \"Setosa\",\"Verginica\",\"Setosa\", \"Verginica\", \"Setosa\",       \"Verginica\", \"Setosa\", \"Setosa\"]"
      ],
      "metadata": {
        "id": "YLK_CljjBurZ"
      },
      "execution_count": 21,
      "outputs": []
    },
    {
      "cell_type": "code",
      "source": [
        "cm = confusion_matrix(truth,prediction)\n",
        "print_confusion_matrix(cm,[\"Setosa\",\"Verginica\"])"
      ],
      "metadata": {
        "colab": {
          "base_uri": "https://localhost:8080/",
          "height": 492
        },
        "id": "X2D9DySjDPhm",
        "outputId": "4c380f5e-50b7-4974-baa5-8afd540b6178"
      },
      "execution_count": 22,
      "outputs": [
        {
          "output_type": "display_data",
          "data": {
            "text/plain": [
              "<Figure size 720x504 with 2 Axes>"
            ],
            "image/png": "[encoded data removed]"
          },
          "metadata": {
            "needs_background": "light"
          }
        }
      ]
    },
    {
      "cell_type": "code",
      "source": [
        "print(classification_report(truth, prediction))"
      ],
      "metadata": {
        "colab": {
          "base_uri": "https://localhost:8080/"
        },
        "id": "fcotTU99DcyQ",
        "outputId": "36d65f67-6601-4e5b-ce35-a18df42eeb25"
      },
      "execution_count": 23,
      "outputs": [
        {
          "output_type": "stream",
          "name": "stdout",
          "text": [
            "              precision    recall  f1-score   support\n",
            "\n",
            "      Setosa       0.57      0.67      0.62         6\n",
            "   Verginica       0.33      0.25      0.29         4\n",
            "\n",
            "    accuracy                           0.50        10\n",
            "   macro avg       0.45      0.46      0.45        10\n",
            "weighted avg       0.48      0.50      0.48        10\n",
            "\n"
          ]
        }
      ]
    },
    {
      "cell_type": "markdown",
      "source": [
        "***F1 SCORE FOR SETOSA SPECIES***"
      ],
      "metadata": {
        "id": "-7OOq79KGWv4"
      }
    },
    {
      "cell_type": "code",
      "source": [
        "2*(0.57*0.67/(0.57+0.67))"
      ],
      "metadata": {
        "colab": {
          "base_uri": "https://localhost:8080/"
        },
        "id": "W5krMP8aGNPB",
        "outputId": "741eb8df-2304-49f0-e7b4-00aebe69e28e"
      },
      "execution_count": 24,
      "outputs": [
        {
          "output_type": "execute_result",
          "data": {
            "text/plain": [
              "0.6159677419354839"
            ]
          },
          "metadata": {},
          "execution_count": 24
        }
      ]
    },
    {
      "cell_type": "markdown",
      "source": [
        "***F1 SCORE FOR VERGINICA SPECIES***"
      ],
      "metadata": {
        "id": "vM_V-7l5Ghh4"
      }
    },
    {
      "cell_type": "code",
      "source": [
        "2*(0.33*0.25/(0.33+0.25))"
      ],
      "metadata": {
        "colab": {
          "base_uri": "https://localhost:8080/"
        },
        "id": "T8xyGLx9GRfo",
        "outputId": "fcd8a8af-11a3-4f52-af20-01edbb1842b0"
      },
      "execution_count": 25,
      "outputs": [
        {
          "output_type": "execute_result",
          "data": {
            "text/plain": [
              "0.2844827586206896"
            ]
          },
          "metadata": {},
          "execution_count": 25
        }
      ]
    },
    {
      "cell_type": "code",
      "source": [
        ""
      ],
      "metadata": {
        "id": "KV97KFzYGUQB"
      },
      "execution_count": 25,
      "outputs": []
    }
  ]
}